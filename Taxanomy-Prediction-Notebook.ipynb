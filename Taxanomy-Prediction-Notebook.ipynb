{
  "nbformat": 4,
  "nbformat_minor": 0,
  "metadata": {
    "colab": {
      "name": "new_nlp_tcs.ipynb",
      "version": "0.3.2",
      "provenance": [],
      "collapsed_sections": [],
      "machine_shape": "hm"
    },
    "kernelspec": {
      "name": "python3",
      "display_name": "Python 3"
    },
    "accelerator": "TPU"
  },
  "cells": [
    {
      "cell_type": "code",
      "metadata": {
        "id": "YBBRIYBKNbXC",
        "colab_type": "code",
        "colab": {}
      },
      "source": [
        ""
      ],
      "execution_count": 0,
      "outputs": []
    },
    {
      "cell_type": "code",
      "metadata": {
        "id": "x9XFjxcZNbtg",
        "colab_type": "code",
        "colab": {}
      },
      "source": [
        "from google.colab import drive\n",
        "drive.mount('drive')"
      ],
      "execution_count": 0,
      "outputs": []
    },
    {
      "cell_type": "code",
      "metadata": {
        "id": "wOTa6G6TJhPf",
        "colab_type": "code",
        "colab": {}
      },
      "source": [
        "# Run this cell and select the kaggle.json file downloaded\n",
        "# from the Kaggle account settings page.\n",
        "from google.colab import files\n",
        "files.upload()"
      ],
      "execution_count": 0,
      "outputs": []
    },
    {
      "cell_type": "code",
      "metadata": {
        "id": "rlZnUtdZKfgM",
        "colab_type": "code",
        "outputId": "7815853c-12e8-4bf8-c903-1a73f936f159",
        "colab": {
          "base_uri": "https://localhost:8080/",
          "height": 34
        }
      },
      "source": [
        "# Let's make sure the kaggle.json file is present.\n",
        "!ls -lha kaggle.json\n",
        "\n",
        "# Next, install the Kaggle API client.\n",
        "!pip install -q kaggle\n",
        "\n",
        "\n",
        "# The Kaggle API client expects this file to be in ~/.kaggle,\n",
        "# so move it there.\n",
        "!mkdir -p ~/.kaggle\n",
        "!cp kaggle.json ~/.kaggle/\n",
        "\n",
        "# This permissions change avoids a warning on Kaggle tool startup.\n",
        "!chmod 600 ~/.kaggle/kaggle.json"
      ],
      "execution_count": 0,
      "outputs": [
        {
          "output_type": "stream",
          "text": [
            "-rw-r--r-- 1 root root 69 Aug 24 15:06 kaggle.json\n"
          ],
          "name": "stdout"
        }
      ]
    },
    {
      "cell_type": "code",
      "metadata": {
        "id": "VIvAGnsJKfi-",
        "colab_type": "code",
        "outputId": "8872b649-7be9-4bb4-de82-628b829100c9",
        "colab": {
          "base_uri": "https://localhost:8080/",
          "height": 173
        }
      },
      "source": [
        "!kaggle competitions download -c facebook-recruiting-iii-keyword-extraction"
      ],
      "execution_count": 0,
      "outputs": [
        {
          "output_type": "stream",
          "text": [
            "Downloading Train.zip to /content\n",
            "100% 2.18G/2.19G [00:42<00:00, 115MB/s]\n",
            "100% 2.19G/2.19G [00:42<00:00, 55.0MB/s]\n",
            "Downloading Test.zip to /content\n",
            " 99% 720M/725M [00:07<00:00, 82.3MB/s]\n",
            "100% 725M/725M [00:07<00:00, 95.6MB/s]\n",
            "Downloading SampleSubmission.csv to /content\n",
            " 99% 78.0M/78.7M [00:00<00:00, 84.8MB/s]\n",
            "100% 78.7M/78.7M [00:00<00:00, 114MB/s] \n"
          ],
          "name": "stdout"
        }
      ]
    },
    {
      "cell_type": "code",
      "metadata": {
        "id": "ScUY2EPbKfl_",
        "colab_type": "code",
        "outputId": "67096235-16d1-41b4-deeb-4a33a5c77b1c",
        "colab": {
          "base_uri": "https://localhost:8080/",
          "height": 138
        }
      },
      "source": [
        "!unzip \\*.zip"
      ],
      "execution_count": 0,
      "outputs": [
        {
          "output_type": "stream",
          "text": [
            "Archive:  Test.zip\n",
            "  inflating: Test.csv                \n",
            "\n",
            "Archive:  Train.zip\n",
            "  inflating: Train.csv               \n",
            "\n",
            "2 archives were successfully processed.\n"
          ],
          "name": "stdout"
        }
      ]
    },
    {
      "cell_type": "code",
      "metadata": {
        "id": "5flAX3K0LSWd",
        "colab_type": "code",
        "colab": {}
      },
      "source": [
        "import pandas as pd\n",
        "import numpy as np\n",
        "\n",
        "\n",
        "df = pd.read_csv(\"Train.csv\")\n",
        "\n",
        "print(\"Before: \", df.shape)\n",
        "\n",
        "df.dropna(inplace=True)\n",
        "\n",
        "print(\"After: \", df.shape)\n",
        "\n",
        "df.reset_index(inplace=True)\n",
        "\n",
        "df.drop(columns=['index'], inplace=True)\n",
        "\n",
        "df.to_csv(\"Train_No_NaN.csv\", index=False)"
      ],
      "execution_count": 0,
      "outputs": []
    },
    {
      "cell_type": "code",
      "metadata": {
        "id": "nOlQOrSNPyRV",
        "colab_type": "code",
        "colab": {}
      },
      "source": [
        "!cp Train_No_NaN.csv drive/My\\ Drive/tcs/"
      ],
      "execution_count": 0,
      "outputs": []
    },
    {
      "cell_type": "code",
      "metadata": {
        "id": "XrIfQ35YKfo8",
        "colab_type": "code",
        "outputId": "5fa54f11-1d3b-42af-b6c7-36d18fd36cbb",
        "colab": {
          "base_uri": "https://localhost:8080/",
          "height": 34
        }
      },
      "source": [
        "all_tags = [tag for slist in df[\"Tags\"].values for tag in slist.split()]\n",
        "len(all_tags)"
      ],
      "execution_count": 0,
      "outputs": [
        {
          "output_type": "execute_result",
          "data": {
            "text/plain": [
              "17409986"
            ]
          },
          "metadata": {
            "tags": []
          },
          "execution_count": 8
        }
      ]
    },
    {
      "cell_type": "code",
      "metadata": {
        "id": "kmRzV7OMKfrA",
        "colab_type": "code",
        "colab": {}
      },
      "source": [
        "import collections\n",
        "\n",
        "counter=collections.Counter(all_tags)\n",
        "\n",
        "counter = { x:y for x, y in sorted(counter.items(), key=lambda x: x[1], reverse=True) }\n",
        "\n",
        "top_tags = set(list(counter.keys())[:500])"
      ],
      "execution_count": 0,
      "outputs": []
    },
    {
      "cell_type": "code",
      "metadata": {
        "id": "PechIE6eKftz",
        "colab_type": "code",
        "colab": {}
      },
      "source": [
        "req_indices=[]\n",
        "\n",
        "for i in range(df.shape[0]):\n",
        "  tags = set(df[\"Tags\"][i].split())\n",
        "  if tags.issubset(top_tags):\n",
        "    req_indices.append(i)\n",
        "\n",
        "\n",
        "req_indices\n"
      ],
      "execution_count": 0,
      "outputs": []
    },
    {
      "cell_type": "code",
      "metadata": {
        "id": "Nqpu3MESKfw3",
        "colab_type": "code",
        "colab": {}
      },
      "source": [
        "import random\n",
        "\n",
        "req_indices_5L = random.sample(req_indices, k=500000)"
      ],
      "execution_count": 0,
      "outputs": []
    },
    {
      "cell_type": "code",
      "metadata": {
        "id": "DJTKv9B7Kfzh",
        "colab_type": "code",
        "colab": {}
      },
      "source": [
        "req_indices_df = pd.DataFrame({\"Indices\": req_indices_5L})\n",
        "\n",
        "req_indices_df.to_csv(\"req_indices.csv\", index=False)"
      ],
      "execution_count": 0,
      "outputs": []
    },
    {
      "cell_type": "code",
      "metadata": {
        "id": "OpcMQfEoKf19",
        "colab_type": "code",
        "colab": {}
      },
      "source": [
        "!cp req_indices.csv drive/My\\ Drive/tcs/"
      ],
      "execution_count": 0,
      "outputs": []
    },
    {
      "cell_type": "code",
      "metadata": {
        "id": "olD9MMK9Kf5N",
        "colab_type": "code",
        "colab": {}
      },
      "source": [
        "df.drop(columns=[\"Id\"], inplace=True)\n",
        "\n",
        "df = df.iloc[req_indices_5L, :]\n",
        "\n",
        "df.reset_index(inplace=True)\n",
        "df.drop(columns=[\"index\"], inplace=True)\n",
        "df.to_csv(\"Train_Nan_5L.csv\", index=True)"
      ],
      "execution_count": 0,
      "outputs": []
    },
    {
      "cell_type": "code",
      "metadata": {
        "id": "_b-3P6wtKf-V",
        "colab_type": "code",
        "colab": {}
      },
      "source": [
        "!cp Train_Nan_5L.csv drive/My\\ Drive/tcs/"
      ],
      "execution_count": 0,
      "outputs": []
    },
    {
      "cell_type": "code",
      "metadata": {
        "id": "5ey-_RNvKf8q",
        "colab_type": "code",
        "colab": {}
      },
      "source": [
        "####################################################################################"
      ],
      "execution_count": 0,
      "outputs": []
    },
    {
      "cell_type": "code",
      "metadata": {
        "id": "pf62HcMfRVPk",
        "colab_type": "code",
        "colab": {}
      },
      "source": [
        "import pandas as pd\n",
        "\n",
        "df = pd.read_csv(\"Train_Nan_5L.csv\", usecols=[\"Title\", \"Body\", \"Tags\"])"
      ],
      "execution_count": 0,
      "outputs": []
    },
    {
      "cell_type": "code",
      "metadata": {
        "id": "PipelPEyRVL5",
        "colab_type": "code",
        "colab": {}
      },
      "source": [
        "\n",
        "\n",
        "import re\n",
        "\n",
        "titles_list=[]\n",
        "for i in range(df.shape[0]):\n",
        "  x = re.sub(r\"</{0,1}[\\w]+>\", \" \", df[\"Title\"][i] )\n",
        "  x= re.sub(r\"C\\+\\+\", \"CPP\", x)\n",
        "  x = re.sub(r\"C#\", \"CSHARP\", x)\n",
        "  x = re.sub(r\"[^a-zA-Z]+\", \" \", x)\n",
        "  x = re.sub(r\"[\\s]+\", \" \", x)\n",
        "  x = re.sub(r\"(?:^| )+[a-bd-qs-zA-BD-QS-Z](?=$| )+\", \"\", x)\n",
        "  titles_list.append(x.lower())\n",
        "\n",
        "\n",
        "df[\"Title\"] = titles_list\n",
        "\n",
        "\n"
      ],
      "execution_count": 0,
      "outputs": []
    },
    {
      "cell_type": "code",
      "metadata": {
        "id": "zJsrfQ-VRVID",
        "colab_type": "code",
        "colab": {}
      },
      "source": [
        "\n",
        "import re\n",
        "code_list=[]\n",
        "bodies_list=[]\n",
        "for i in range(df.shape[0]):\n",
        "  code = str( re.findall(r\"<code>(.*?)</code>\", df[\"Body\"][i], flags=re.DOTALL) ) or \"No_code\"\n",
        "  x = re.sub(r\"<code>(.*?)</code>\", \" \", df[\"Body\"][i], flags=re.MULTILINE|re.DOTALL)\n",
        "  x = re.sub(r\"</{0,1}[\\w]+>\", \" \", x )\n",
        "  x = re.sub(r\"C\\+\\+\", \"CPP\", x)\n",
        "  x = re.sub(r\"C#\", \"CSHARP\", x)\n",
        "  x = re.sub(r\"[^a-zA-Z]+\", \" \", x)\n",
        "  x = re.sub(r\"[\\s]+\", \" \", x)\n",
        "  x = re.sub(r\"(?:^| )+[a-bd-qs-zA-BD-QS-Z]{1,2}(?=$| )+\", \"\", x)\n",
        "\n",
        "\n",
        "  bodies_list.append(x.lower())\n",
        "  code_list.append(code.lower())\n",
        "\n",
        "df[\"Body\"] = bodies_list\n",
        "df[\"Code\"] = code_list\n",
        "\n"
      ],
      "execution_count": 0,
      "outputs": []
    },
    {
      "cell_type": "code",
      "metadata": {
        "id": "jqRIHSioZKCJ",
        "colab_type": "code",
        "colab": {}
      },
      "source": [
        "# code me 4+ letters waale characters alphabets only\n",
        "\n",
        "import re\n",
        "clean_code_list = []\n",
        "for i in range(df.shape[0]):\n",
        " \n",
        "  x = re.sub(r\"[^a-zA-Z]+\", \" \", df[\"Code\"][i])\n",
        "  x = re.sub(r\"\\b\\w{1,3}\\b\", \" \", x)\n",
        "  x = re.sub(r\"[\\s]+\", \" \", x)\n",
        "  x = x.strip()\n",
        "\n",
        "\n",
        "  clean_code_list.append(x)\n",
        "\n",
        "df[\"Code\"] = clean_code_list"
      ],
      "execution_count": 0,
      "outputs": []
    },
    {
      "cell_type": "code",
      "metadata": {
        "id": "O9w9kW-sZJ_l",
        "colab_type": "code",
        "outputId": "c3d9ef9b-c6fa-4505-a54e-74ac3a79b66e",
        "colab": {
          "base_uri": "https://localhost:8080/",
          "height": 285
        }
      },
      "source": [
        "df.head()"
      ],
      "execution_count": 0,
      "outputs": [
        {
          "output_type": "execute_result",
          "data": {
            "text/html": [
              "<div>\n",
              "<style scoped>\n",
              "    .dataframe tbody tr th:only-of-type {\n",
              "        vertical-align: middle;\n",
              "    }\n",
              "\n",
              "    .dataframe tbody tr th {\n",
              "        vertical-align: top;\n",
              "    }\n",
              "\n",
              "    .dataframe thead th {\n",
              "        text-align: right;\n",
              "    }\n",
              "</style>\n",
              "<table border=\"1\" class=\"dataframe\">\n",
              "  <thead>\n",
              "    <tr style=\"text-align: right;\">\n",
              "      <th></th>\n",
              "      <th>Title</th>\n",
              "      <th>Body</th>\n",
              "      <th>Tags</th>\n",
              "      <th>Code</th>\n",
              "    </tr>\n",
              "  </thead>\n",
              "  <tbody>\n",
              "    <tr>\n",
              "      <th>0</th>\n",
              "      <td>problem with outlook displaying an html message</td>\n",
              "      <td>sending html formatted email message using ma...</td>\n",
              "      <td>c# email outlook</td>\n",
              "      <td>mailmessage message mailmessage nmessage body ...</td>\n",
              "    </tr>\n",
              "    <tr>\n",
              "      <th>1</th>\n",
              "      <td>jquery two buttons making picture move from le...</td>\n",
              "      <td>want make picture stickman picture move from ...</td>\n",
              "      <td>javascript jquery html button</td>\n",
              "      <td>function personleft animate left nfunction per...</td>\n",
              "    </tr>\n",
              "    <tr>\n",
              "      <th>2</th>\n",
              "      <td>how to get dropdownlist selected value nested ...</td>\n",
              "      <td>have problem retrieving the value dropdownlis...</td>\n",
              "      <td>drop-down-menu</td>\n",
              "      <td>repeater categoryfood runat server itemtemplat...</td>\n",
              "    </tr>\n",
              "    <tr>\n",
              "      <th>3</th>\n",
              "      <td>custom cancel for futuretask</td>\n",
              "      <td>have implemented custom cancellation logic de...</td>\n",
              "      <td>java concurrency</td>\n",
              "      <td></td>\n",
              "    </tr>\n",
              "    <tr>\n",
              "      <th>4</th>\n",
              "      <td>capture image show and send to server in android</td>\n",
              "      <td>hello want capture image click button and aft...</td>\n",
              "      <td>android</td>\n",
              "      <td>protected void onactivityresult requestcode re...</td>\n",
              "    </tr>\n",
              "  </tbody>\n",
              "</table>\n",
              "</div>"
            ],
            "text/plain": [
              "                                               Title  ...                                               Code\n",
              "0    problem with outlook displaying an html message  ...  mailmessage message mailmessage nmessage body ...\n",
              "1  jquery two buttons making picture move from le...  ...  function personleft animate left nfunction per...\n",
              "2  how to get dropdownlist selected value nested ...  ...  repeater categoryfood runat server itemtemplat...\n",
              "3                       custom cancel for futuretask  ...                                                   \n",
              "4   capture image show and send to server in android  ...  protected void onactivityresult requestcode re...\n",
              "\n",
              "[5 rows x 4 columns]"
            ]
          },
          "metadata": {
            "tags": []
          },
          "execution_count": 15
        }
      ]
    },
    {
      "cell_type": "code",
      "metadata": {
        "id": "h1hea2qiZJ9c",
        "colab_type": "code",
        "colab": {}
      },
      "source": [
        "df.to_csv(\"Cleaned_Train.csv\", index=True)"
      ],
      "execution_count": 0,
      "outputs": []
    },
    {
      "cell_type": "code",
      "metadata": {
        "id": "Yf1dRhAWZJ5-",
        "colab_type": "code",
        "colab": {}
      },
      "source": [
        "!cp Cleaned_Train.csv drive/My\\ Drive/tcs/"
      ],
      "execution_count": 0,
      "outputs": []
    },
    {
      "cell_type": "code",
      "metadata": {
        "id": "Ql9QJbNxZJ3z",
        "colab_type": "code",
        "colab": {}
      },
      "source": [
        "##############################################################################################"
      ],
      "execution_count": 0,
      "outputs": []
    },
    {
      "cell_type": "code",
      "metadata": {
        "id": "Xfpa1U52ZJ0q",
        "colab_type": "code",
        "colab": {}
      },
      "source": [
        "df_tbc = pd.DataFrame()\n",
        "\n",
        "df_tbc[\"TBC\"] = df[\"Title\"] + \" \" + df[\"Body\"] + \" \" + df[\"Code\"]\n"
      ],
      "execution_count": 0,
      "outputs": []
    },
    {
      "cell_type": "code",
      "metadata": {
        "id": "1DY-htUmbUeT",
        "colab_type": "code",
        "colab": {}
      },
      "source": [
        "df_tbc.to_csv(\"TBC.csv\", index=True)\n",
        "\n",
        "!cp TBC.csv drive/My\\ Drive/tcs/"
      ],
      "execution_count": 0,
      "outputs": []
    },
    {
      "cell_type": "code",
      "metadata": {
        "id": "U9gsPPpxbUbz",
        "colab_type": "code",
        "outputId": "871b87a0-79b4-4d3a-c503-03150de2aac9",
        "colab": {
          "base_uri": "https://localhost:8080/",
          "height": 52
        }
      },
      "source": [
        "# Total no of words\n",
        "# Average words/ example\n",
        "\n",
        "\n",
        "len_tbc = 0\n",
        "\n",
        "for i in range(df_tbc.shape[0]):\n",
        "  l = len(df_tbc[\"TBC\"][i].split())\n",
        "\n",
        "  len_tbc += l\n",
        "\n",
        "print(len_tbc)\n",
        "\n",
        "len_tbc/df_tbc.shape[0]"
      ],
      "execution_count": 0,
      "outputs": [
        {
          "output_type": "stream",
          "text": [
            "52776606\n"
          ],
          "name": "stdout"
        },
        {
          "output_type": "execute_result",
          "data": {
            "text/plain": [
              "105.553212"
            ]
          },
          "metadata": {
            "tags": []
          },
          "execution_count": 29
        }
      ]
    },
    {
      "cell_type": "code",
      "metadata": {
        "id": "rvWwBZ6YbUYl",
        "colab_type": "code",
        "colab": {}
      },
      "source": [
        "##########################################################################################"
      ],
      "execution_count": 0,
      "outputs": []
    },
    {
      "cell_type": "code",
      "metadata": {
        "id": "O0XCT6pZbUXU",
        "colab_type": "code",
        "outputId": "78e30fa9-70a3-47fd-8309-5beb84953433",
        "colab": {
          "base_uri": "https://localhost:8080/",
          "height": 86
        }
      },
      "source": [
        "import nltk\n",
        "from nltk.corpus import stopwords\n",
        "from nltk.tokenize import word_tokenize\n",
        "from nltk.stem.snowball import SnowballStemmer\n",
        "\n",
        "nltk.download('punkt')\n",
        "\n",
        "nltk.download('stopwords')\n",
        "\n",
        "stop_words = set(stopwords.words('english'))\n",
        "stemmer = SnowballStemmer(\"english\")"
      ],
      "execution_count": 0,
      "outputs": [
        {
          "output_type": "stream",
          "text": [
            "[nltk_data] Downloading package punkt to /root/nltk_data...\n",
            "[nltk_data]   Unzipping tokenizers/punkt.zip.\n",
            "[nltk_data] Downloading package stopwords to /root/nltk_data...\n",
            "[nltk_data]   Unzipping corpora/stopwords.zip.\n"
          ],
          "name": "stdout"
        }
      ]
    },
    {
      "cell_type": "code",
      "metadata": {
        "id": "v9M_E6L3gWqz",
        "colab_type": "code",
        "outputId": "9bebf985-8ed0-43a7-efb3-3a331786ff2e",
        "colab": {
          "base_uri": "https://localhost:8080/",
          "height": 54
        }
      },
      "source": [
        "words = word_tokenize(df_tbc.iloc[0,0])\n",
        "\n",
        "t = \" \".join(str(stemmer.stem(word)) for word in words if word not in stop_words )\n",
        "\n",
        "print(t)"
      ],
      "execution_count": 0,
      "outputs": [
        {
          "output_type": "stream",
          "text": [
            "problem outlook display html messag send html format email messag use mailmessag class code follow see receiv messag outlook show whole html instead bold text messag wrong mailmessag messag mailmessag nmessag bodi html bodi test messag bodi html nmessag isbodyhtml true skip set irrelev nnew smtpclient send messag html bodi test messag bodi html\n"
          ],
          "name": "stdout"
        }
      ]
    },
    {
      "cell_type": "code",
      "metadata": {
        "id": "kjXbbUYMbUTE",
        "colab_type": "code",
        "outputId": "1db56514-27c0-4ce0-ce9a-82f2c3f92af5",
        "colab": {
          "base_uri": "https://localhost:8080/",
          "height": 104
        }
      },
      "source": [
        "tok_stop_stem_list=[]\n",
        "\n",
        "for i in range(df_tbc.shape[0]):\n",
        "  words = word_tokenize(df_tbc.iloc[i,0])\n",
        "  t = \" \".join(str(stemmer.stem(word)) for word in words if word not in stop_words  )\n",
        "  tok_stop_stem_list.append(t)\n",
        "  if not i%100000:\n",
        "    print(i)"
      ],
      "execution_count": 0,
      "outputs": [
        {
          "output_type": "stream",
          "text": [
            "0\n",
            "100000\n",
            "200000\n",
            "300000\n",
            "400000\n"
          ],
          "name": "stdout"
        }
      ]
    },
    {
      "cell_type": "code",
      "metadata": {
        "id": "OTzKKMTcbURp",
        "colab_type": "code",
        "outputId": "07841e0d-98c9-4aee-cf8a-be9b8179d87e",
        "colab": {
          "base_uri": "https://localhost:8080/",
          "height": 216
        }
      },
      "source": [
        "df_tbc[\"TBC\"] = tok_stop_stem_list\n",
        "df_tbc[\"Tags\"] = df[\"Tags\"]\n",
        "\n",
        "df_tbc.to_csv(\"TBC_tok_stop_stem.csv\", index=True)"
      ],
      "execution_count": 0,
      "outputs": [
        {
          "output_type": "stream",
          "text": [
            "(500000, 2)\n"
          ],
          "name": "stdout"
        },
        {
          "output_type": "execute_result",
          "data": {
            "text/html": [
              "<div>\n",
              "<style scoped>\n",
              "    .dataframe tbody tr th:only-of-type {\n",
              "        vertical-align: middle;\n",
              "    }\n",
              "\n",
              "    .dataframe tbody tr th {\n",
              "        vertical-align: top;\n",
              "    }\n",
              "\n",
              "    .dataframe thead th {\n",
              "        text-align: right;\n",
              "    }\n",
              "</style>\n",
              "<table border=\"1\" class=\"dataframe\">\n",
              "  <thead>\n",
              "    <tr style=\"text-align: right;\">\n",
              "      <th></th>\n",
              "      <th>TBC</th>\n",
              "      <th>Tags</th>\n",
              "    </tr>\n",
              "  </thead>\n",
              "  <tbody>\n",
              "    <tr>\n",
              "      <th>0</th>\n",
              "      <td>problem outlook display html messag send html ...</td>\n",
              "      <td>c# email outlook</td>\n",
              "    </tr>\n",
              "    <tr>\n",
              "      <th>1</th>\n",
              "      <td>jqueri two button make pictur move left right ...</td>\n",
              "      <td>javascript jquery html button</td>\n",
              "    </tr>\n",
              "    <tr>\n",
              "      <th>2</th>\n",
              "      <td>get dropdownlist select valu nest repeat probl...</td>\n",
              "      <td>drop-down-menu</td>\n",
              "    </tr>\n",
              "    <tr>\n",
              "      <th>3</th>\n",
              "      <td>custom cancel futuretask implement custom canc...</td>\n",
              "      <td>java concurrency</td>\n",
              "    </tr>\n",
              "    <tr>\n",
              "      <th>4</th>\n",
              "      <td>captur imag show send server android hello wan...</td>\n",
              "      <td>android</td>\n",
              "    </tr>\n",
              "  </tbody>\n",
              "</table>\n",
              "</div>"
            ],
            "text/plain": [
              "                                                 TBC                           Tags\n",
              "0  problem outlook display html messag send html ...               c# email outlook\n",
              "1  jqueri two button make pictur move left right ...  javascript jquery html button\n",
              "2  get dropdownlist select valu nest repeat probl...                 drop-down-menu\n",
              "3  custom cancel futuretask implement custom canc...               java concurrency\n",
              "4  captur imag show send server android hello wan...                        android"
            ]
          },
          "metadata": {
            "tags": []
          },
          "execution_count": 40
        }
      ]
    },
    {
      "cell_type": "code",
      "metadata": {
        "id": "p_avVqdmkhON",
        "colab_type": "code",
        "colab": {}
      },
      "source": [
        "!cp TBC_tok_stop_stem.csv drive/My\\ Drive/tcs/"
      ],
      "execution_count": 0,
      "outputs": []
    },
    {
      "cell_type": "code",
      "metadata": {
        "id": "x8C5Llk2h8q8",
        "colab_type": "code",
        "outputId": "25427087-9da7-4760-86e2-8c52e21acd23",
        "colab": {
          "base_uri": "https://localhost:8080/",
          "height": 121
        }
      },
      "source": [
        "# Total no of words\n",
        "# Average words/ example\n",
        "\n",
        "\n",
        "len_tbc_new = 0\n",
        "\n",
        "for i in range(df_tbc.shape[0]):\n",
        "  l = len(df_tbc[\"TBC\"][i].split())\n",
        "\n",
        "  len_tbc_new += l\n",
        "\n",
        "print(\"OLD:\")\n",
        "print(\"Total:\", len_tbc)\n",
        "print(\"Words/row:\", len_tbc/df_tbc.shape[0])\n",
        "\n",
        "print(\"NEW:\")\n",
        "print(\"Total:\", len_tbc_new)\n",
        "print(\"Words/row:\", len_tbc_new/df_tbc.shape[0])"
      ],
      "execution_count": 0,
      "outputs": [
        {
          "output_type": "stream",
          "text": [
            "OLD:\n",
            "Total: 52776606\n",
            "Words/row: 105.553212\n",
            "NEW:\n",
            "Total: 40321128\n",
            "Words/row: 80.642256\n"
          ],
          "name": "stdout"
        }
      ]
    },
    {
      "cell_type": "code",
      "metadata": {
        "id": "FeN5PSDDl023",
        "colab_type": "code",
        "colab": {}
      },
      "source": [
        "##########################################################################################3"
      ],
      "execution_count": 0,
      "outputs": []
    },
    {
      "cell_type": "code",
      "metadata": {
        "id": "Gu4_GkUMl0x_",
        "colab_type": "code",
        "colab": {}
      },
      "source": [
        "from sklearn.feature_extraction.text import CountVectorizer\n",
        "# binary='true' will give a binary vectorizer\n",
        "vectorizer = CountVectorizer(tokenizer = lambda x: x.split(), binary='true')\n",
        "tags = vectorizer.fit_transform(df_tbc['Tags'])\n"
      ],
      "execution_count": 0,
      "outputs": []
    },
    {
      "cell_type": "code",
      "metadata": {
        "id": "SjpOeYIs2Sgt",
        "colab_type": "code",
        "colab": {}
      },
      "source": [
        "# saving as npz\n",
        "\n",
        "from scipy import sparse\n",
        "\n",
        "sparse.save_npz(\"Tags_vectorized.npz\", tags)\n",
        "\n",
        "!cp Tags_vectorized.npz drive/My\\ Drive/tcs/"
      ],
      "execution_count": 0,
      "outputs": []
    },
    {
      "cell_type": "code",
      "metadata": {
        "id": "PZeC168EnR1I",
        "colab_type": "code",
        "colab": {}
      },
      "source": [
        "# saving as csv\n",
        "\n",
        "tags.to_csv(\"Tags_vectorized.csv\", index=True)\n",
        "\n",
        "!cp Tags_vectorized.csv drive/My\\ Drive/tcs/"
      ],
      "execution_count": 0,
      "outputs": []
    },
    {
      "cell_type": "code",
      "metadata": {
        "id": "7w8wK4oqobMZ",
        "colab_type": "code",
        "colab": {}
      },
      "source": [
        "import pickle\n",
        "\n",
        "pickle.dump(vectorizer.vocabulary_, open(\"tags_vectorizer.pickle\", \"wb\"))\n",
        "\n",
        "!cp tags_vectorizer.pickle drive/My\\ Drive/tcs/\n",
        "\n",
        "\n",
        "# to load\n",
        "# loaded_vec = CountVectorizer(decode_error=\"replace\",vocabulary=pickle.load(open(\"feature.pkl\", \"rb\")))"
      ],
      "execution_count": 0,
      "outputs": []
    },
    {
      "cell_type": "code",
      "metadata": {
        "id": "jJNstWinukmA",
        "colab_type": "code",
        "colab": {}
      },
      "source": [
        "import pandas as pd\n",
        "df_tbc = pd.read_csv(\"drive/My Drive/tcs/TBC_tok_stop_stem.csv\", usecols=[\"TBC\"])"
      ],
      "execution_count": 0,
      "outputs": []
    },
    {
      "cell_type": "code",
      "metadata": {
        "id": "m3KXujGwl0wR",
        "colab_type": "code",
        "colab": {}
      },
      "source": [
        "# Ngrams = (1,1)\n",
        "from sklearn.feature_extraction.text import CountVectorizer\n",
        "\n",
        "vectorizer = CountVectorizer(min_df=0.00009,tokenizer = lambda x: x.split(), ngram_range=(1,1),max_features=25000)\n",
        "X_data = vectorizer.fit_transform(df_tbc[\"TBC\"])\n"
      ],
      "execution_count": 0,
      "outputs": []
    },
    {
      "cell_type": "code",
      "metadata": {
        "id": "0J03wkX1v380",
        "colab_type": "code",
        "colab": {}
      },
      "source": [
        "import pickle\n",
        "\n",
        "pickle.dump(vectorizer.vocabulary_, open(\"ngram_1_1_vectorizer.pickle\", \"wb\"))\n",
        "\n",
        "!cp ngram_1_1_vectorizer.pickle drive/My\\ Drive/tcs/"
      ],
      "execution_count": 0,
      "outputs": []
    },
    {
      "cell_type": "code",
      "metadata": {
        "id": "d1Eic1I-v6D6",
        "colab_type": "code",
        "colab": {}
      },
      "source": [
        "# X_data = pd.DataFrame(X_data.toarray())\n",
        "\n",
        "from scipy import sparse\n",
        "\n",
        "sparse.save_npz(\"X_data_1_1.npz\", X_data)\n",
        "\n",
        "!cp X_data_1_1.npz drive/My\\ Drive/tcs/\n"
      ],
      "execution_count": 0,
      "outputs": []
    },
    {
      "cell_type": "code",
      "metadata": {
        "id": "3d8xU2C0sd2-",
        "colab_type": "code",
        "colab": {}
      },
      "source": [
        "# Ngrams = (1,4)\n",
        "\n",
        "\n",
        "vectorizer = CountVectorizer(min_df=0.00009,tokenizer = lambda x: x.split(), ngram_range=(1,4),max_features=25000)\n",
        "X_data_1_4 = vectorizer.fit_transform(df_tbc[\"TBC\"])"
      ],
      "execution_count": 0,
      "outputs": []
    },
    {
      "cell_type": "code",
      "metadata": {
        "id": "af_5ujBRl0sm",
        "colab_type": "code",
        "colab": {}
      },
      "source": [
        "pickle.dump(vectorizer.vocabulary_, open(\"ngram_1_4_vectorizer.pickle\", \"wb\"))\n",
        "sparse.save_npz(\"X_data_1_4.npz\", X_data_1_4)\n",
        "\n",
        "!cp X_data_1_4.npz drive/My\\ Drive/tcs/\n",
        "!cp ngram_1_4_vectorizer.pickle drive/My\\ Drive/tcs/"
      ],
      "execution_count": 0,
      "outputs": []
    },
    {
      "cell_type": "code",
      "metadata": {
        "id": "-ys9fExH0prj",
        "colab_type": "code",
        "colab": {}
      },
      "source": [
        "###########################################################################"
      ],
      "execution_count": 0,
      "outputs": []
    },
    {
      "cell_type": "code",
      "metadata": {
        "id": "uWjPjCjx088l",
        "colab_type": "code",
        "colab": {}
      },
      "source": [
        "# load X_data_1_1.npz\n",
        "# load tags vectorized"
      ],
      "execution_count": 0,
      "outputs": []
    },
    {
      "cell_type": "code",
      "metadata": {
        "id": "rn6Jw2Ef085T",
        "colab_type": "code",
        "colab": {}
      },
      "source": [
        "# load X_data_1_4.npz\n",
        "# load tags vectorized"
      ],
      "execution_count": 0,
      "outputs": []
    },
    {
      "cell_type": "code",
      "metadata": {
        "id": "rRo3orYoYf4c",
        "colab_type": "code",
        "outputId": "c68451ce-a43e-477c-a8ca-31398bc1aac0",
        "colab": {
          "base_uri": "https://localhost:8080/",
          "height": 124
        }
      },
      "source": [
        "from google.colab import drive\n",
        "drive.mount('drive')"
      ],
      "execution_count": 0,
      "outputs": [
        {
          "output_type": "stream",
          "text": [
            "Go to this URL in a browser: https://accounts.google.com/o/oauth2/auth?client_id=947318989803-6bn6qk8qdgf4n4g3pfee6491hc0brc4i.apps.googleusercontent.com&redirect_uri=urn%3Aietf%3Awg%3Aoauth%3A2.0%3Aoob&scope=email%20https%3A%2F%2Fwww.googleapis.com%2Fauth%2Fdocs.test%20https%3A%2F%2Fwww.googleapis.com%2Fauth%2Fdrive%20https%3A%2F%2Fwww.googleapis.com%2Fauth%2Fdrive.photos.readonly%20https%3A%2F%2Fwww.googleapis.com%2Fauth%2Fpeopleapi.readonly&response_type=code\n",
            "\n",
            "Enter your authorization code:\n",
            "··········\n",
            "Mounted at drive\n"
          ],
          "name": "stdout"
        }
      ]
    },
    {
      "cell_type": "code",
      "metadata": {
        "id": "LdhoaxFZl0qM",
        "colab_type": "code",
        "colab": {}
      },
      "source": [
        "from scipy import sparse\n",
        "from sklearn.multiclass import OneVsRestClassifier\n",
        "from sklearn.linear_model import LogisticRegression\n",
        "from sklearn.svm import SVC\n",
        "from sklearn.linear_model import SGDClassifier\n",
        "from sklearn.naive_bayes import GaussianNB"
      ],
      "execution_count": 0,
      "outputs": []
    },
    {
      "cell_type": "code",
      "metadata": {
        "id": "BFVS4RZ4l0m7",
        "colab_type": "code",
        "colab": {}
      },
      "source": [
        "############################################\n",
        "\n",
        "# Logistic Regression - (1,1)\n",
        "\n",
        "\n",
        "\n",
        "from scipy import sparse\n",
        "\n",
        "\n",
        "X_train_1_1 = sparse.load_npz(\"drive/My Drive/tcs/X_data_1_1.npz\")\n",
        "y_train = sparse.load_npz(\"drive/My Drive/tcs/Tags_vectorized.npz\")\n",
        "\n",
        "clf_log_reg_1 = OneVsRestClassifier(LogisticRegression(C=0.1, penalty='l2', verbose=1))\n",
        "\n",
        "clf_log_reg_1.fit(X_train_1_1, y_train)\n",
        "\n",
        "\n",
        "import pickle\n",
        "pickle.dump(clf_log_reg_1, open(\"1_log_reg_clf.pickle\", \"wb\"))\n",
        "!cp 1_log_reg_clf.pickle drive/My\\ Drive/tcs/"
      ],
      "execution_count": 0,
      "outputs": []
    },
    {
      "cell_type": "code",
      "metadata": {
        "id": "AUUnPjlkl0kh",
        "colab_type": "code",
        "colab": {}
      },
      "source": [
        "# Logistic Regression - (1,4)\n",
        "\n",
        "from scipy import sparse\n",
        "\n",
        "\n",
        "X_train_1_4 = sparse.load_npz(\"drive/My Drive/tcs/X_data_1_4.npz\")\n",
        "y_train = sparse.load_npz(\"drive/My Drive/tcs/Tags_vectorized.npz\")\n",
        "\n",
        "clf_log_reg_2 = OneVsRestClassifier(LogisticRegression(C=0.1, penalty='l2'))\n",
        "\n",
        "clf_log_reg_2.fit(X_train_1_4, y_train)\n",
        "\n",
        "\n",
        "import pickle\n",
        "pickle.dump(clg_log_reg_2, open(\"2_log_reg_clf.pickle\", \"wb\"))\n",
        "\n",
        "!cp 2_log_reg_clf.pickle drive/My\\ Drive/tcs/"
      ],
      "execution_count": 0,
      "outputs": []
    },
    {
      "cell_type": "code",
      "metadata": {
        "id": "kKAVJcipl0iD",
        "colab_type": "code",
        "colab": {}
      },
      "source": [
        "####################################\n",
        "\n",
        "# SGDClassifier-(1,1) --------------- done   ------- discard\n",
        "\n",
        "from scipy import sparse\n",
        "\n",
        "\n",
        "X_train_1_1 = sparse.load_npz(\"drive/My Drive/tcs/X_data_1_1.npz\")\n",
        "y_train = sparse.load_npz(\"drive/My Drive/tcs/Tags_vectorized.npz\")\n",
        "\n",
        "\n",
        "\n",
        "clf_sgd_1 = OneVsRestClassifier(SGDClassifier(loss='hinge', alpha=1, penalty='l2',n_jobs=-1))\n",
        "clf_sgd_1.fit(X_train_1_1, y_train)\n",
        "\n",
        "\n",
        "import pickle\n",
        "pickle.dump(clf_sgd_1, open(\"3_sgd_clf.pickle\", \"wb\"))\n",
        "\n",
        "!cp 3_sgd_clf.pickle drive/My\\ Drive/tcs/"
      ],
      "execution_count": 0,
      "outputs": []
    },
    {
      "cell_type": "code",
      "metadata": {
        "id": "LQXzkOmzgG1E",
        "colab_type": "code",
        "colab": {}
      },
      "source": [
        "# SGDClassifier-(1,4) --------------- done ---------- discard\n",
        "\n",
        "from scipy import sparse\n",
        "\n",
        "\n",
        "X_train_1_4 = sparse.load_npz(\"drive/My Drive/tcs/X_data_1_4.npz\")\n",
        "y_train = sparse.load_npz(\"drive/My Drive/tcs/Tags_vectorized.npz\")\n",
        "\n",
        "\n",
        "\n",
        "clf_sgd_2 = OneVsRestClassifier(SGDClassifier(loss='hinge', alpha=1, penalty='l2',n_jobs=-1))\n",
        "clf_sgd_2.fit(X_train_1_4, y_train)\n",
        "\n",
        "\n",
        "import pickle\n",
        "pickle.dump(clf_sgd_2, open(\"4_sgd_clf.pickle\", \"wb\"))\n",
        "\n",
        "!cp 4_sgd_clf.pickle drive/My\\ Drive/tcs/"
      ],
      "execution_count": 0,
      "outputs": []
    },
    {
      "cell_type": "code",
      "metadata": {
        "id": "2bL0EUn5dZ30",
        "colab_type": "code",
        "outputId": "d7120178-99ab-4a2d-9cfc-515c0487ffd9",
        "colab": {
          "base_uri": "https://localhost:8080/",
          "height": 72
        }
      },
      "source": [
        "###########################################################\n",
        "\n",
        "# SVC - (1,1)\n",
        "\n",
        "\n",
        "from scipy import sparse\n",
        "\n",
        "\n",
        "X_train_1_1 = sparse.load_npz(\"drive/My Drive/tcs/X_data_1_1.npz\")\n",
        "y_train = sparse.load_npz(\"drive/My Drive/tcs/Tags_vectorized.npz\")\n",
        "\n",
        "\n",
        "clf_svc = OneVsRestClassifier(SVC())\n",
        "\n",
        "clf_svc.fit(X_train_1_1, y_train)\n",
        "\n",
        "\n",
        "import pickle\n",
        "pickle.dump(clf_svc, open(\"5_svc_clf.pickle\", \"wb\"))\n",
        "\n",
        "!cp 5_svc_clf.pickle drive/My\\ Drive/tcs/"
      ],
      "execution_count": 0,
      "outputs": [
        {
          "output_type": "stream",
          "text": [
            "/usr/local/lib/python3.6/dist-packages/sklearn/svm/base.py:193: FutureWarning: The default value of gamma will change from 'auto' to 'scale' in version 0.22 to account better for unscaled features. Set gamma explicitly to 'auto' or 'scale' to avoid this warning.\n",
            "  \"avoid this warning.\", FutureWarning)\n"
          ],
          "name": "stderr"
        }
      ]
    },
    {
      "cell_type": "code",
      "metadata": {
        "id": "mbN9UItKdZ9u",
        "colab_type": "code",
        "colab": {}
      },
      "source": [
        ""
      ],
      "execution_count": 0,
      "outputs": []
    },
    {
      "cell_type": "code",
      "metadata": {
        "id": "1X1WOuYGdZ7H",
        "colab_type": "code",
        "outputId": "932c5642-a803-4dff-b661-8a3ff28ca5fc",
        "colab": {
          "base_uri": "https://localhost:8080/",
          "height": 1000
        }
      },
      "source": [
        "##############################\n",
        "# Testing\n",
        "from sklearn.feature_extraction.text import CountVectorizer\n",
        "X_train_1_1 = sparse.load_npz(\"drive/My Drive/tcs/X_data_1_1.npz\")\n",
        "\n",
        "\n",
        "clf_sgd_1 = pickle.load(open(\"drive/My Drive/tcs/3_sgd_clf.pickle\", \"rb\"))\n",
        "\n",
        "loaded_vec = CountVectorizer(decode_error=\"replace\",vocabulary=pickle.load(open(\"drive/My Drive/tcs/tags_vectorizer.pickle\", \"rb\")))\n",
        "loaded_vec._validate_vocabulary()\n",
        "\n",
        "\n",
        "test = X_train_1_1[100:200, :]\n",
        "\n",
        "pred = clf_sgd_1.predict(test)\n",
        "\n",
        "loaded_vec.inverse_transform(pred)\n"
      ],
      "execution_count": 0,
      "outputs": [
        {
          "output_type": "execute_result",
          "data": {
            "text/plain": [
              "[array([], dtype='<U24'),\n",
              " array([], dtype='<U24'),\n",
              " array([], dtype='<U24'),\n",
              " array([], dtype='<U24'),\n",
              " array([], dtype='<U24'),\n",
              " array([], dtype='<U24'),\n",
              " array([], dtype='<U24'),\n",
              " array([], dtype='<U24'),\n",
              " array([], dtype='<U24'),\n",
              " array([], dtype='<U24'),\n",
              " array([], dtype='<U24'),\n",
              " array([], dtype='<U24'),\n",
              " array([], dtype='<U24'),\n",
              " array([], dtype='<U24'),\n",
              " array([], dtype='<U24'),\n",
              " array([], dtype='<U24'),\n",
              " array([], dtype='<U24'),\n",
              " array([], dtype='<U24'),\n",
              " array([], dtype='<U24'),\n",
              " array([], dtype='<U24'),\n",
              " array([], dtype='<U24'),\n",
              " array([], dtype='<U24'),\n",
              " array([], dtype='<U24'),\n",
              " array([], dtype='<U24'),\n",
              " array([], dtype='<U24'),\n",
              " array([], dtype='<U24'),\n",
              " array([], dtype='<U24'),\n",
              " array([], dtype='<U24'),\n",
              " array([], dtype='<U24'),\n",
              " array([], dtype='<U24'),\n",
              " array([], dtype='<U24'),\n",
              " array([], dtype='<U24'),\n",
              " array([], dtype='<U24'),\n",
              " array([], dtype='<U24'),\n",
              " array([], dtype='<U24'),\n",
              " array([], dtype='<U24'),\n",
              " array([], dtype='<U24'),\n",
              " array([], dtype='<U24'),\n",
              " array([], dtype='<U24'),\n",
              " array([], dtype='<U24'),\n",
              " array([], dtype='<U24'),\n",
              " array([], dtype='<U24'),\n",
              " array([], dtype='<U24'),\n",
              " array([], dtype='<U24'),\n",
              " array([], dtype='<U24'),\n",
              " array([], dtype='<U24'),\n",
              " array([], dtype='<U24'),\n",
              " array([], dtype='<U24'),\n",
              " array([], dtype='<U24'),\n",
              " array([], dtype='<U24'),\n",
              " array([], dtype='<U24'),\n",
              " array([], dtype='<U24'),\n",
              " array([], dtype='<U24'),\n",
              " array([], dtype='<U24'),\n",
              " array([], dtype='<U24'),\n",
              " array([], dtype='<U24'),\n",
              " array([], dtype='<U24'),\n",
              " array([], dtype='<U24'),\n",
              " array([], dtype='<U24'),\n",
              " array([], dtype='<U24'),\n",
              " array(['jquery'], dtype='<U24'),\n",
              " array([], dtype='<U24'),\n",
              " array([], dtype='<U24'),\n",
              " array([], dtype='<U24'),\n",
              " array([], dtype='<U24'),\n",
              " array([], dtype='<U24'),\n",
              " array([], dtype='<U24'),\n",
              " array([], dtype='<U24'),\n",
              " array([], dtype='<U24'),\n",
              " array([], dtype='<U24'),\n",
              " array([], dtype='<U24'),\n",
              " array([], dtype='<U24'),\n",
              " array([], dtype='<U24'),\n",
              " array([], dtype='<U24'),\n",
              " array([], dtype='<U24'),\n",
              " array([], dtype='<U24'),\n",
              " array([], dtype='<U24'),\n",
              " array([], dtype='<U24'),\n",
              " array([], dtype='<U24'),\n",
              " array([], dtype='<U24'),\n",
              " array([], dtype='<U24'),\n",
              " array([], dtype='<U24'),\n",
              " array([], dtype='<U24'),\n",
              " array([], dtype='<U24'),\n",
              " array([], dtype='<U24'),\n",
              " array([], dtype='<U24'),\n",
              " array([], dtype='<U24'),\n",
              " array([], dtype='<U24'),\n",
              " array([], dtype='<U24'),\n",
              " array([], dtype='<U24'),\n",
              " array([], dtype='<U24'),\n",
              " array([], dtype='<U24'),\n",
              " array([], dtype='<U24'),\n",
              " array([], dtype='<U24'),\n",
              " array([], dtype='<U24'),\n",
              " array([], dtype='<U24'),\n",
              " array([], dtype='<U24'),\n",
              " array([], dtype='<U24'),\n",
              " array([], dtype='<U24'),\n",
              " array([], dtype='<U24')]"
            ]
          },
          "metadata": {
            "tags": []
          },
          "execution_count": 20
        }
      ]
    }
  ]
}
